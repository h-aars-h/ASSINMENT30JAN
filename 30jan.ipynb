{
 "cells": [
  {
   "cell_type": "code",
   "execution_count": 1,
   "id": "29d997e5-d4cf-4bfc-a9d3-3d0e040aa943",
   "metadata": {},
   "outputs": [
    {
     "name": "stdin",
     "output_type": "stream",
     "text": [
      "Enter  the marks  45\n"
     ]
    },
    {
     "name": "stdout",
     "output_type": "stream",
     "text": [
      "Grade D\n"
     ]
    }
   ],
   "source": [
    "# Q1 = Write a program to accept percentage Iran' the user and display the grade according to tha following criteria:\n",
    "# Ans1\n",
    "marks=int(input(\"Enter  the marks \"))\n",
    "if marks>90:\n",
    "    print(\"Grade A \")\n",
    "elif marks>80 and marks<=90:\n",
    "    print(\"Grade B \")\n",
    "elif marks>60 and marks<=80:\n",
    "    print(\"Grade C \")\n",
    "else:\n",
    "    print(\"Grade D\")"
   ]
  },
  {
   "cell_type": "code",
   "execution_count": 2,
   "id": "a1dafaed-3526-401c-baaa-8361c6de17bc",
   "metadata": {},
   "outputs": [
    {
     "name": "stdin",
     "output_type": "stream",
     "text": [
      "enter the price and check the road tax you pay  45\n"
     ]
    },
    {
     "name": "stdout",
     "output_type": "stream",
     "text": [
      "5% road tax you paid and 45 and the is amount you paid 47.25 \n"
     ]
    }
   ],
   "source": [
    "# Q2 .Write a program to accept the cost price •f a bike and display the raod tax to be paid according to the following criteria:\n",
    "# Ans 2= tax 15>100000 and 10\n",
    "cp=int(input(\"enter the price and check the road tax you pay \"))\n",
    "if cp>100000:\n",
    "    price=cp/100*15+cp\n",
    "    print(f\"15% road tax you paid and {cp} and the is amount you paid {price} \")\n",
    "elif cp>50000 and cp<=100000:\n",
    "    price=cp/100*10+cp\n",
    "    print(f\"10% road tax you paid and {cp} and the is amount you paid {price} \")\n",
    "elif cp<50000 :\n",
    "    price=cp/100*5+cp\n",
    "    print(f\"5% road tax you paid and {cp} and the is amount you paid {price} \")\n"
   ]
  },
  {
   "cell_type": "code",
   "execution_count": 6,
   "id": "a81bb675-5bb0-4440-8065-efa6469bdf9e",
   "metadata": {},
   "outputs": [
    {
     "name": "stdin",
     "output_type": "stream",
     "text": [
      "Enter the city name:  Delhi\n"
     ]
    },
    {
     "name": "stdout",
     "output_type": "stream",
     "text": [
      "The monument in Delhi is Red Fort\n"
     ]
    }
   ],
   "source": [
    "# Q3 Accept any city from \tuser and  rno num ents of that city.\n",
    "# City\tMonument\n",
    "# Delhi\tRed Fort\n",
    "# Agra\tTaj Manal\n",
    "# Jaipur\tJal Mahal\n",
    "# Ans 3=\n",
    "city_monument= {\n",
    "    \"Delhi\": \"Red Fort\",\n",
    "    \"Agra\": \"Taj Manal\",\n",
    "    \"Jaipur\": \"Jal Mahal\"\n",
    "}\n",
    "\n",
    "city = input(\"Enter the city name: \")\n",
    "\n",
    "if city in city_monument:\n",
    "    print(\"The monument in\", city, \"is\", city_monument[city])\n",
    "else:\n",
    "    print(\"Sorry, the city you entered is not in the list.\")"
   ]
  },
  {
   "cell_type": "code",
   "execution_count": 10,
   "id": "db86a27c-a2e1-44a8-80b4-c84ea5737945",
   "metadata": {},
   "outputs": [
    {
     "name": "stdout",
     "output_type": "stream",
     "text": [
      "No\n"
     ]
    }
   ],
   "source": [
    "# Q4 check how many times a given number can be divided by 3 before it is less than or equal to 10.\n",
    "# Python program to find if a number is\n",
    "# divisible by 3 or not\n",
    "\n",
    "# Function to find that number\n",
    "# divisible by 3 or not\n",
    "def check(num) :\n",
    "\n",
    "# Compute sum of digits\n",
    "    digitSum = 0\n",
    "    while num > 0 :\n",
    "        rem = num % 10\n",
    "        digitSum = digitSum + rem\n",
    "        num = num // 10\n",
    "\n",
    "# Check if sum of digits is\n",
    "# divisible by 3.\n",
    "    return (digitSum % 3 == 0)\t\n",
    "# main function\n",
    "num = 10\n",
    "if(check(num)) :\n",
    "\tprint (\"Yes\")\n",
    "else :\n",
    "\tprint (\"No\")\n",
    "\t\n",
    "\n",
    "\n"
   ]
  },
  {
   "cell_type": "code",
   "execution_count": 10,
   "id": "62176c2b-ee61-4225-9b34-fbf68d6f1c3a",
   "metadata": {},
   "outputs": [],
   "source": [
    "# Q5. why and when to use while loop in pyhton give a detailed description with expample\n",
    "#Ans 5= A while loop in Python is used certain condtion and wwhen is true andthe condition becomes False. \n",
    "# It's important to make sure that the condition will eventually become False, \n",
    "# otherwise the loop will run forever and cause an infinite loop.\n",
    "# example Repeating an operation until a certain condition is met: For example, you might want to keep prompting a user\n",
    "# for input until they enter a valid response."
   ]
  },
  {
   "cell_type": "code",
   "execution_count": 31,
   "id": "32b712e4-b831-47d1-a9f1-f8a55d606486",
   "metadata": {},
   "outputs": [
    {
     "name": "stdout",
     "output_type": "stream",
     "text": [
      "*\n",
      "**\n",
      "***\n",
      "****\n",
      "*****\n"
     ]
    }
   ],
   "source": [
    "#Q6. use nested while loop to print 3 diffrent pattern.\n",
    "# Ans 6\n",
    "n = 5\n",
    "i = 1\n",
    "while i <= n:\n",
    "    j = 1\n",
    "    while j <= i:\n",
    "        print(\"*\", end=\"\")\n",
    "        j += 1\n",
    "    print(\"\")\n",
    "    i += 1\n"
   ]
  },
  {
   "cell_type": "code",
   "execution_count": 8,
   "id": "dbbb48d3-6920-47d6-80bd-04fd8645e6ee",
   "metadata": {},
   "outputs": [
    {
     "name": "stdout",
     "output_type": "stream",
     "text": [
      "10\n",
      "9\n",
      "8\n",
      "7\n",
      "6\n",
      "5\n",
      "4\n",
      "3\n",
      "2\n"
     ]
    },
    {
     "data": {
      "text/plain": [
       "1"
      ]
     },
     "execution_count": 8,
     "metadata": {},
     "output_type": "execute_result"
    }
   ],
   "source": [
    "# Q7 Reverse a while loop to display from 10 to 1.\n",
    "# Ans \n",
    "counter=10\n",
    "while counter>1:\n",
    "    print(counter)\n",
    "    counter=counter-1\n",
    "counter"
   ]
  },
  {
   "cell_type": "code",
   "execution_count": null,
   "id": "9a4141b2-90c4-4146-a14b-6bb00bb884ee",
   "metadata": {},
   "outputs": [],
   "source": [
    "# Q8 Reverse a while loop to display from 10 to 1.\n",
    "# Ans \n",
    "counter=10\n",
    "while counter>1:\n",
    "    print(counter)\n",
    "    counter=counter-1\n",
    "counter"
   ]
  }
 ],
 "metadata": {
  "kernelspec": {
   "display_name": "Python 3 (ipykernel)",
   "language": "python",
   "name": "python3"
  },
  "language_info": {
   "codemirror_mode": {
    "name": "ipython",
    "version": 3
   },
   "file_extension": ".py",
   "mimetype": "text/x-python",
   "name": "python",
   "nbconvert_exporter": "python",
   "pygments_lexer": "ipython3",
   "version": "3.10.6"
  }
 },
 "nbformat": 4,
 "nbformat_minor": 5
}
